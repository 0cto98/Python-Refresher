{
 "cells": [
  {
   "cell_type": "markdown",
   "metadata": {},
   "source": [
    "# Python, Centrale Lille, G3 SDIA\n",
    "---\n",
    "## TP4 : K-nearest neighbours (K-NN) classification with numpy, scikit-learn and cython."
   ]
  },
  {
   "cell_type": "markdown",
   "metadata": {},
   "source": [
    "---\n",
    "## Guidelines (read carefully before starting)\n",
    "\n",
    "\n",
    "**Objectives**: acquire further practice with standard techniques and libraries to significantly accelerate (serial) `numpy` codes (cython, `numba`). The implementation will be compared and validated against the corresponding scikit-learn implementation.\n",
    "\n",
    "**Guidelines**: after retrieving the resources for the lab on moodle:\n",
    "- place the `.zip` archive in a local folder (Computer -> Documents/Python/);\n",
    "- unzip the archive `.zip`;\n",
    "- rename the folder with the convention `tp4_Name1_Name2`;\n",
    "- duplicate the notebook file and rename it `tp4_Name1_Name2.ipynb`;\n",
    "- [**optional, possibly needed if working from Centrale's machines**]\n",
    "    - create a `tp4` conda environment from the provided `requirement.txt` file\n",
    "    ```bash\n",
    "    conda create --name=tp4 --file=requirement.txt\n",
    "    conda activate tp4\n",
    "    # do not forget to deactivate the environment if needed\n",
    "    # you can remove the environment once you are done\n",
    "    conda env remove --name=tp4\n",
    "    ```\n",
    "    - launch jupyter notebook (the python environment will be the one from the conda environment `tp4`)\n",
    "- at the end of the session, do not forget to transfer your work to your own network space if you are working on a machine from the school (do not leave your work on the C: drive).\n",
    "\n",
    "**Assessment** &#8594; global grade from F to A (A+)\n",
    "\n",
    "This lab session will be evaluated, based on your answer to the exercises reported in a Jupyter notebook (e.g., this one) and any additional `.py` file produced. Any code produced should be commented whenever appropriate, custom functions and objects documented and unit-tested (see session 1). Figure produced should be clearly annotated (axis, title, legend whenever appropriate).\n",
    "\n",
    "1. Numerical correctness\n",
    "2. Implementation clarity (documentation, relevance of the comments)\n",
    "3. Unit-tests developed whenever appropriate (correctness, relevance)\n",
    "4. Answers to the questions and overall presentation of the Jupyter notebook.\n",
    "\n",
    "**Useful references for this lab**:\n",
    "\n",
    "[1] scikit-learn: [documentation](https://scikit-learn.org/stable/modules/neighbors.html?highlight=knn%20classification)\n",
    "\n",
    "[2] `numba`: [documentation](http://numba.pydata.org/) \n",
    "\n",
    "[3] cython: [a very useful tutorial](https://cython.readthedocs.io/en/latest/src/userguide/numpy_tutorial.html#numpy-tutorial), and [another one](http://docs.cython.org/en/latest/src/tutorial/cython_tutorial.html)\n",
    "\n",
    "\n",
    "\n",
    "## <a name=\"content\">Contents</a>\n",
    "- [Exercise 1: KNN classification with numpy and sklearn](#ex1)\n",
    "- [Exercise 2: Code acceleration with cython](#ex2)\n",
    "- [[Bonus] Exercise 3: Code acceleration with numba](#ex3)\n",
    "---"
   ]
  },
  {
   "cell_type": "code",
   "execution_count": 1,
   "metadata": {},
   "outputs": [],
   "source": [
    "%load_ext autoreload\n",
    "%autoreload 2"
   ]
  },
  {
   "cell_type": "markdown",
   "metadata": {},
   "source": [
    "## <a name=\"ex1\">Exercise 1: K-Nearest Neighbours (K-NN) classification with numpy and scikit-learn</a> [(&#8593;)](#content)"
   ]
  },
  {
   "cell_type": "markdown",
   "metadata": {},
   "source": [
    "This session is a first introduction to classification using the most intuitive non parametric method: the $K$-nearest neighbours. The principle is [the following](https://scikit-learn.org/stable/modules/neighbors.html?highlight=knn%20classification). A set of labelled observations is given as a learning set. A classification taks then consists in assigning a label to any new observation. In particular, the K-NN approach consists in assigning to the observation the most frequent label among its $K$ nearest neighbours taken in the training set."
   ]
  },
  {
   "cell_type": "markdown",
   "metadata": {},
   "source": [
    "### A. Validation on synthetic data\n",
    "\n",
    "Load the training and test datasets `data/synth_train.txt` and `data/synth_test.txt`. Targets belong to the set $\\{1,2\\}$ and entries belong to $\\mathbb{R}^2$. The file `data/synth_train.txt` contain 100 training data samples, and `data/synth_test.txt` contains 200 test samples, where:\n",
    "\n",
    "- the 1st column contains the label of the class the sample;\n",
    "- columns 2 & 3 contain the coordinates of each sample (in $\\mathbb{R}^2$).\n",
    "\n",
    "Useful commands can be found below."
   ]
  },
  {
   "cell_type": "markdown",
   "metadata": {},
   "source": [
    "```python\n",
    "# load the training set\n",
    "train = np.loadtxt('data/synth_train.txt')  #...,delimiter=',') if there are ',' as delimiters\n",
    "class_train = train[:,0]\n",
    "x_train = train[:,1:]\n",
    "N_train = train.shape[0]\n",
    "```"
   ]
  },
  {
   "cell_type": "markdown",
   "metadata": {},
   "source": [
    "```python\n",
    "# load the test set\n",
    "test = np.loadtxt('/datasynth_test.txt') \n",
    "class_test_1 = test[test[:,0]==1]\n",
    "class_test_2 = test[test[:,0]==2]\n",
    "x_test = test[:,1:]\n",
    "N_test = test.shape[0]\n",
    "```"
   ]
  },
  {
   "cell_type": "markdown",
   "metadata": {},
   "source": [
    "1\\. Display the training set and distinguish the two classes. \n",
    "\n",
    "> Hint: useful functions include `matplotlib.pyplot.scatter` or `matplotlib.pyplot.plot`."
   ]
  },
  {
   "cell_type": "code",
   "execution_count": 2,
   "metadata": {},
   "outputs": [
    {
     "data": {
      "image/png": "[encoded data removed]",
      "text/plain": [
       "<Figure size 432x288 with 1 Axes>"
      ]
     },
     "metadata": {
      "needs_background": "light"
     },
     "output_type": "display_data"
    }
   ],
   "source": [
    "#Q1\n",
    "import matplotlib.pyplot as plt\n",
    "import numpy as np\n",
    "\n",
    "# load the training set\n",
    "train = np.loadtxt('data/synth_train.txt')  #...,delimiter=',') if there are ',' as delimiters\n",
    "class_train = train[:,0] #list of labels\n",
    "x_train = train[:,1:] #coordinates\n",
    "N_train = train.shape[0] #number of lines\n",
    "\n",
    "plt.scatter(x_train[:,0],x_train[:,1], c=class_train, cmap='plasma')\n",
    "plt.show()\n",
    "# print(train)\n",
    "# print(class_train)\n",
    "# print(x_train)\n",
    "# print(N_train)"
   ]
  },
  {
   "cell_type": "markdown",
   "metadata": {},
   "source": [
    "2\\. Implement the K-nearest neighbours algorithm for classification.\n",
    "\n",
    "> Hint: \n",
    "> - useful functions include `numpy.linalg.norm`, `numpy.argsort`, `numpy.bincount`;\n",
    "> - for an optimized partial sorting procedure, you may have a look at the [`bottleneck.argpartition` function](https://bottleneck.readthedocs.io/en/latest/reference.html#bottleneck.argpartition)."
   ]
  },
  {
   "cell_type": "code",
   "execution_count": 3,
   "metadata": {},
   "outputs": [
    {
     "data": {
      "text/plain": [
       "1"
      ]
     },
     "execution_count": 3,
     "metadata": {},
     "output_type": "execute_result"
    }
   ],
   "source": [
    "#Q2\n",
    "import numpy as np\n",
    "from numpy import linalg as LA\n",
    "\n",
    "# load the test set\n",
    "test = np.loadtxt('data/synth_test.txt') \n",
    "class_test = test[:,0] #list of labels\n",
    "x_test = test[:,1:] #coordinates\n",
    "N_test = test.shape[0] #number of lines\n",
    "# print(test)\n",
    "# print(class_test_1)\n",
    "# print(class_test_2)\n",
    "# print(x_test) \n",
    "# print(N_test)\n",
    "\n",
    "def knn (trainingSet, testInstance, k):\n",
    "    distances = []\n",
    "    # Calculating distance between each row of training data and test data\n",
    "    for i in range(len(trainingSet)):\n",
    "        distances.append(LA.norm(testInstance-trainingSet[i,1:]))\n",
    "    # Sorting them on the basis of distance, and selecting the k first index\n",
    "    index_knn = np.argsort(distances)[0:k]\n",
    "    #Getting list of class of the k nearest neighbours\n",
    "    knn = trainingSet[index_knn][:,0]\n",
    "    #Converting them into Integers for bincount function\n",
    "    knn = [int(i) for i in knn]\n",
    "    a = np.bincount(knn)\n",
    "    return np.argmax(a) #return the most recurent label in the k nearest neighbours set\n",
    "\n",
    "knn(train,x_test[9],2)\n"
   ]
  },
  {
   "cell_type": "markdown",
   "metadata": {},
   "source": [
    "3\\. Compute the error rate on the training set and the test set for $K \\in \\{1,2, \\dotsc, 20\\}$. Display the classification result (see 1.) for the configuration with the lowest error rate."
   ]
  },
  {
   "cell_type": "code",
   "execution_count": 9,
   "metadata": {},
   "outputs": [
    {
     "data": {
      "text/plain": [
       "<matplotlib.legend.Legend at 0x17fb88f1e50>"
      ]
     },
     "execution_count": 9,
     "metadata": {},
     "output_type": "execute_result"
    },
    {
     "data": {
      "image/png": "[encoded data removed]",
      "text/plain": [
       "<Figure size 432x288 with 1 Axes>"
      ]
     },
     "metadata": {
      "needs_background": "light"
     },
     "output_type": "display_data"
    }
   ],
   "source": [
    "#Q3\n",
    "def error_rate(train_set,x,class_list,k):\n",
    "    prediction = np.zeros(len(x))\n",
    "    for i in range(len(prediction)):\n",
    "        prediction[i] = knn(train_set,x[i],k)\n",
    "    a = np.absolute(prediction-class_list)\n",
    "    return np.mean(a)\n",
    "\n",
    "empirical_error,generalisation_error = np.zeros(20), np.zeros(20)\n",
    "for k in range(1,21):\n",
    "    empirical_error[k-1] = error_rate(train,x_train,class_train,k)\n",
    "    generalisation_error[k-1] = error_rate(train,x_test,class_test,k)\n",
    "    \n",
    "plt.plot(np.arange(1,21),empirical_error, label='error on training set')\n",
    "plt.plot(np.arange(1,21),generalisation_error, label='error on test set')\n",
    "plt.grid()\n",
    "plt.legend()"
   ]
  },
  {
   "cell_type": "markdown",
   "metadata": {},
   "source": [
    "4\\. Comment on your results. Which value of $K$ seems optimal ?\n"
   ]
  },
  {
   "cell_type": "code",
   "execution_count": 5,
   "metadata": {},
   "outputs": [],
   "source": [
    "# answer"
   ]
  },
  {
   "cell_type": "markdown",
   "metadata": {},
   "source": [
    "5\\. Compare the results of you implementation with those of [`sklearn.neighbors.KNeighborsClassifier`](https://scikit-learn.org/stable/modules/generated/sklearn.neighbors.KNeighborsClassifier.html?highlight=kneighborsclassifier#sklearn.neighbors.KNeighborsClassifier). Compare the runtime of these two versions using the [`timeit`](https://docs.python.org/3/library/timeit.html) module (see session 1)."
   ]
  },
  {
   "cell_type": "code",
   "execution_count": 11,
   "metadata": {},
   "outputs": [
    {
     "data": {
      "text/plain": [
       "<matplotlib.legend.Legend at 0x17fb982f3a0>"
      ]
     },
     "execution_count": 11,
     "metadata": {},
     "output_type": "execute_result"
    },
    {
     "data": {
      "image/png": "[encoded data removed]",
      "text/plain": [
       "<Figure size 432x288 with 1 Axes>"
      ]
     },
     "metadata": {
      "needs_background": "light"
     },
     "output_type": "display_data"
    }
   ],
   "source": [
    "#Q5\n",
    "from sklearn.neighbors import KNeighborsClassifier\n",
    "from sklearn import metrics\n",
    "\n",
    "empirical_error,generalisation_error = np.zeros(20), np.zeros(20)\n",
    "for k in range (1,21):\n",
    "    knn = KNeighborsClassifier(n_neighbors=k)\n",
    "    knn.fit(x_train, class_train)\n",
    "    y_pred = knn.predict(x_train)\n",
    "    empirical_error[k-1] = 1-metrics.accuracy_score(class_train,y_pred)\n",
    "    y_pred = knn.predict(x_test)\n",
    "    generalisation_error[k-1] = 1-metrics.accuracy_score(class_test,y_pred)\n",
    "\n",
    "plt.plot(np.arange(1,21),empirical_error, label='error on training set')\n",
    "plt.plot(np.arange(1,21),generalisation_error, label='error on test set')\n",
    "plt.grid()\n",
    "plt.legend()"
   ]
  },
  {
   "cell_type": "markdown",
   "metadata": {},
   "source": [
    "### B. Application to a real dataset (Breast cancer Wisconsin).\n",
    "\n",
    "6\\. Apply the K-NN classifier to the real dataset `data/wdbc12.data.txt.` Further details about the data are provided in `data/wdbc12.names.txt`."
   ]
  },
  {
   "cell_type": "code",
   "execution_count": 7,
   "metadata": {},
   "outputs": [],
   "source": [
    "# answer"
   ]
  },
  {
   "cell_type": "markdown",
   "metadata": {},
   "source": [
    "## <a name=\"ex2\">Exercise 2: Code acceleration with cython</a> [(&#8593;)](#content)\n",
    "\n",
    "Cython allows C code to be easily interfaced with Python. It can be useful to make your code faster for a small coding effort, in particular when using loops. A general approach to optimize your code is outlined in the [Scipy lecture notes, Section 2.4](https://scipy-lectures.org/advanced/optimizing/index.html). Complementary reading about interfacing Python with C can be found in [Section 2.8](https://scipy-lectures.org/advanced/interfacing_with_c/interfacing_with_c.html).\n",
    "\n",
    "1\\. Read carefully the [cython tutorial](http://docs.cython.org/en/latest/src/tutorial/cython_tutorial.html), which describes step by the step how the toy example reported below has been developed."
   ]
  },
  {
   "cell_type": "markdown",
   "metadata": {},
   "source": [
    "**Setup**: Compile the toy example provided in `example_cy/` by running, in the command line (anaconda prompt on windows)"
   ]
  },
  {
   "cell_type": "markdown",
   "metadata": {},
   "source": [
    "```bash\n",
    "python cython_example/setup.py build_ext --inplace\n",
    "```"
   ]
  },
  {
   "cell_type": "markdown",
   "metadata": {},
   "source": [
    "Note that the compilation process has been slightly automatised with the instructions reported in `example_cy/setup.py`. To test the module, run"
   ]
  },
  {
   "cell_type": "code",
   "execution_count": 13,
   "metadata": {},
   "outputs": [
    {
     "ename": "ModuleNotFoundError",
     "evalue": "No module named 'pximport'",
     "output_type": "error",
     "traceback": [
      "\u001b[1;31m---------------------------------------------------------------------------\u001b[0m",
      "\u001b[1;31mModuleNotFoundError\u001b[0m                       Traceback (most recent call last)",
      "\u001b[1;32m<ipython-input-13-70cf068f5dec>\u001b[0m in \u001b[0;36m<module>\u001b[1;34m\u001b[0m\n\u001b[1;32m----> 1\u001b[1;33m \u001b[1;32mimport\u001b[0m \u001b[0mpximport\u001b[0m\u001b[1;33m\u001b[0m\u001b[1;33m\u001b[0m\u001b[0m\n\u001b[0m\u001b[0;32m      2\u001b[0m \u001b[0mpximport\u001b[0m\u001b[1;33m.\u001b[0m\u001b[0minstall\u001b[0m\u001b[1;33m(\u001b[0m\u001b[1;33m)\u001b[0m\u001b[1;33m\u001b[0m\u001b[1;33m\u001b[0m\u001b[0m\n",
      "\u001b[1;31mModuleNotFoundError\u001b[0m: No module named 'pximport'"
     ]
    }
   ],
   "source": [
    "import pximport\n",
    "pximport.install()"
   ]
  },
  {
   "cell_type": "code",
   "execution_count": 14,
   "metadata": {},
   "outputs": [
    {
     "ename": "ModuleNotFoundError",
     "evalue": "No module named 'example_cy.helloworld'",
     "output_type": "error",
     "traceback": [
      "\u001b[1;31m---------------------------------------------------------------------------\u001b[0m",
      "\u001b[1;31mModuleNotFoundError\u001b[0m                       Traceback (most recent call last)",
      "\u001b[1;32m<ipython-input-14-d19c1cd82ce4>\u001b[0m in \u001b[0;36m<module>\u001b[1;34m\u001b[0m\n\u001b[1;32m----> 1\u001b[1;33m \u001b[1;32mimport\u001b[0m \u001b[0mexample_cy\u001b[0m\u001b[1;33m.\u001b[0m\u001b[0mhelloworld\u001b[0m \u001b[1;32mas\u001b[0m \u001b[0mtoy\u001b[0m\u001b[1;33m\u001b[0m\u001b[1;33m\u001b[0m\u001b[0m\n\u001b[0m\u001b[0;32m      2\u001b[0m \u001b[0mtoy\u001b[0m\u001b[1;33m.\u001b[0m\u001b[0mprinthello\u001b[0m\u001b[1;33m(\u001b[0m\u001b[1;33m)\u001b[0m\u001b[1;33m\u001b[0m\u001b[1;33m\u001b[0m\u001b[0m\n",
      "\u001b[1;31mModuleNotFoundError\u001b[0m: No module named 'example_cy.helloworld'"
     ]
    }
   ],
   "source": [
    "import example_cy.helloworld as toy\n",
    "toy.printhello()"
   ]
  },
  {
   "cell_type": "markdown",
   "metadata": {},
   "source": [
    "which should display\n",
    "```python\n",
    "Hello World\n",
    "```"
   ]
  },
  {
   "cell_type": "markdown",
   "metadata": {},
   "source": [
    "> Warning: \n",
    "> - do not forget to include an empty `__init__.py` file in the directory where your source code lives (`import` will fail if this is not the case).\n",
    "> - in case you have any setup issue, take a look at the `notes.md` file."
   ]
  },
  {
   "cell_type": "markdown",
   "metadata": {},
   "source": [
    "2\\. Read the Numpy/Cython [tutorial](https://cython.readthedocs.io/en/latest/src/userguide/numpy_tutorial.html#numpy-tutorial), focussing on the paragraphs **Cython at a glance**, and **Your Cython environment** until **\"More generic code\"**. Apply step-by-step the techniques specified in this document to accelerate the numpy version of the K-NN classifier implemented in [Exercise 1](#ex1) (*i.e.*, compile and time your code after each step to report the evolution)."
   ]
  },
  {
   "cell_type": "markdown",
   "metadata": {},
   "source": [
    "> Remarks: \n",
    "> - the `annotate=True` flag in the `setup.py` allows an additional `.html` document to be generated (`<your_module_name>.html`), showing, for each line of the Cython code, the associated C instructions generated. Highlighted in yellow are the interactions with Python: the darker a region appears, the less efficient the generated C code is for this section. Work in priority on these! \n",
    "> - make sure all the previously generated files are deleted to allow the .html report to be generated;\n",
    "> - if you are working on your own machine and don't have a C/C++ compiler installed, read the notes provided in `notes.md`;\n",
    "> - use `cdef` for pure C functions (not exported to Python), `cpdef` should be favored for functions containing C instructions and later called from Python."
   ]
  },
  {
   "cell_type": "code",
   "execution_count": null,
   "metadata": {},
   "outputs": [],
   "source": [
    "# answer"
   ]
  },
  {
   "cell_type": "markdown",
   "metadata": {},
   "source": [
    "3\\. Use Cython to implement a faster version of the numpy K-NN classifier implemented in [Exercise 1](#ex1). An example to compile a `.pyx` file depending on `numpy` is included in `example_np_cy/`.\n",
    "\n",
    "> Hint: if you keep numpy arrays, make sure you use memory views (see numpy/cython tutorial) to access the elements within it. Beware input type (you may need to recast the format of the input elements before entering the function. The `numpy.asarray` function can prove useful)."
   ]
  },
  {
   "cell_type": "code",
   "execution_count": null,
   "metadata": {},
   "outputs": [],
   "source": [
    "# answer"
   ]
  },
  {
   "cell_type": "markdown",
   "metadata": {},
   "source": [
    "4\\. Compare the runtime of the two algorithms (using `timeit.timeit`), and conclude about the interest of using cython in this case."
   ]
  },
  {
   "cell_type": "code",
   "execution_count": null,
   "metadata": {},
   "outputs": [],
   "source": [
    "# answer"
   ]
  },
  {
   "cell_type": "markdown",
   "metadata": {},
   "source": [
    "5\\. **[TO BE REMOVED IF NEEDED]** [**Bonus**] `numba` is a just-in-time (JIT) compiler which translates Python codes into efficient machine code at runtime. A significant acceleration can be obtained by adding a few simple decorators to a standard Python function, up to a few restrictions detailed [here](http://numba.pydata.org/numba-doc/latest/user/performance-tips.html).\n",
    "\n",
    "Take a look at the [numba 5 min tour](http://numba.pydata.org/numba-doc/latest/user/5minguide.html), and try to accelerate your `numpy` implementation of the KNN algorithm with the `@jit` decorator. You may have to rewrite small portions of your code to get the expected acceleration (see [performance tips](http://numba.pydata.org/numba-doc/latest/user/performance-tips.html)).\n",
    "\n",
    "> Note: \n",
    "> - If you have written most of the KNN classifier of exercise 1 with numpy, there is little chance that you will get an acceleration with numba (justifying the use of cython in this case).\n",
    "> - > **Warning**: first run the numba version once to trigger the compilation, and then time it as usual. This is needed to avoid including the JIT compilation step in the runtime."
   ]
  },
  {
   "cell_type": "code",
   "execution_count": null,
   "metadata": {},
   "outputs": [],
   "source": [
    "# answer"
   ]
  }
 ],
 "metadata": {
  "file_extension": ".py",
  "kernelspec": {
   "display_name": "Python 3",
   "language": "python",
   "name": "python3"
  },
  "language_info": {
   "codemirror_mode": {
    "name": "ipython",
    "version": 3
   },
   "file_extension": ".py",
   "mimetype": "text/x-python",
   "name": "python",
   "nbconvert_exporter": "python",
   "pygments_lexer": "ipython3",
   "version": "3.8.3"
  },
  "mimetype": "text/x-python",
  "name": "python",
  "npconvert_exporter": "python",
  "pygments_lexer": "ipython3",
  "version": 3
 },
 "nbformat": 4,
 "nbformat_minor": 4
}
